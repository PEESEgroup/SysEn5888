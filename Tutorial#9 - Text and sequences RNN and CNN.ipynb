{
 "cells": [
  {
   "cell_type": "markdown",
   "metadata": {},
   "source": [
    "# Text classification with an RNN and CNN\n",
    "\n",
    "This text classification tutorial trains a recurrent and a colvolutional neural networks on the IMDB large movie review dataset for sentiment analysis.\n",
    "\n",
    "\n",
    "## RNN model\n",
    "Recurrent neural networks, or RNNs (Rumelhart et al., 1986a), are a familyof neural networks for processing sequential data. Much as a convolutional networkis a neural network that is specialized for processing a grid of valuesXsuch asan image, a recurrent neural network is a neural network that is specialized forprocessing a sequence of values x(1), . . . , x(τ). Just as convolutional networkscan readily scale to images with large width and height, and some convolutionalnetworks can process images of variable size, recurrent networks can scale to muchlonger sequences than would be practical for networks without sequence-basedspecialization. Most recurrent networks can also process sequences of variablelength\n",
    "\n",
    "\n",
    "<img src=\"https://www.tensorflow.org/text/tutorials/images/bidirectional.png\" alt=\"Diagram of one-hot encodings\" width=\"400\" />"
   ]
  },
  {
   "cell_type": "code",
   "execution_count": 2,
   "metadata": {},
   "outputs": [],
   "source": [
    "import numpy as np\n",
    "\n",
    "import tensorflow_datasets as tfds\n",
    "import tensorflow as tf\n",
    "\n",
    "tfds.disable_progress_bar()"
   ]
  },
  {
   "cell_type": "code",
   "execution_count": 3,
   "metadata": {},
   "outputs": [],
   "source": [
    "#Import matplotlib and create a helper function to plot graphs:\n",
    "\n",
    "import matplotlib.pyplot as plt\n",
    "\n",
    "\n",
    "def plot_graphs(history, metric):\n",
    "  plt.plot(history.history[metric])\n",
    "  plt.plot(history.history['val_'+metric], '')\n",
    "  plt.xlabel(\"Epochs\")\n",
    "  plt.ylabel(metric)\n",
    "  plt.legend([metric, 'val_'+metric])"
   ]
  },
  {
   "cell_type": "markdown",
   "metadata": {},
   "source": [
    "### Setup input pipeline\n",
    "The IMDB large movie review dataset is a binary classification dataset—all the reviews have either a positive or negative sentiment.\n",
    "\n",
    "Download the dataset using TFDS. See the loading text tutorial for details on how to load this sort of data manually."
   ]
  },
  {
   "cell_type": "code",
   "execution_count": 4,
   "metadata": {},
   "outputs": [
    {
     "name": "stdout",
     "output_type": "stream",
     "text": [
      "\u001b[1mDownloading and preparing dataset Unknown size (download: Unknown size, generated: Unknown size, total: Unknown size) to C:\\Users\\asa279\\tensorflow_datasets\\imdb_reviews\\plain_text\\1.0.0...\u001b[0m\n",
      "\u001b[1mDataset imdb_reviews downloaded and prepared to C:\\Users\\asa279\\tensorflow_datasets\\imdb_reviews\\plain_text\\1.0.0. Subsequent calls will reuse this data.\u001b[0m\n"
     ]
    },
    {
     "data": {
      "text/plain": [
       "(TensorSpec(shape=(), dtype=tf.string, name=None),\n",
       " TensorSpec(shape=(), dtype=tf.int64, name=None))"
      ]
     },
     "execution_count": 4,
     "metadata": {},
     "output_type": "execute_result"
    }
   ],
   "source": [
    "dataset, info = tfds.load('imdb_reviews', with_info=True,\n",
    "                          as_supervised=True)\n",
    "train_dataset, test_dataset = dataset['train'], dataset['test']\n",
    "\n",
    "train_dataset.element_spec"
   ]
  },
  {
   "cell_type": "code",
   "execution_count": 5,
   "metadata": {},
   "outputs": [
    {
     "name": "stdout",
     "output_type": "stream",
     "text": [
      "text:  b\"This was an absolutely terrible movie. Don't be lured in by Christopher Walken or Michael Ironside. Both are great actors, but this must simply be their worst role in history. Even their great acting could not redeem this movie's ridiculous storyline. This movie is an early nineties US propaganda piece. The most pathetic scenes were those when the Columbian rebels were making their cases for revolutions. Maria Conchita Alonso appeared phony, and her pseudo-love affair with Walken was nothing but a pathetic emotional plug in a movie that was devoid of any real meaning. I am disappointed that there are movies like this, ruining actor's like Christopher Walken's good name. I could barely sit through it.\"\n",
      "label:  0\n"
     ]
    }
   ],
   "source": [
    "for example, label in train_dataset.take(1):\n",
    "  print('text: ', example.numpy())\n",
    "  print('label: ', label.numpy())"
   ]
  },
  {
   "cell_type": "code",
   "execution_count": 6,
   "metadata": {},
   "outputs": [],
   "source": [
    "BUFFER_SIZE = 10000\n",
    "BATCH_SIZE = 64"
   ]
  },
  {
   "cell_type": "code",
   "execution_count": 7,
   "metadata": {},
   "outputs": [],
   "source": [
    "train_dataset = train_dataset.shuffle(BUFFER_SIZE).batch(BATCH_SIZE).prefetch(tf.data.AUTOTUNE)\n",
    "test_dataset = test_dataset.batch(BATCH_SIZE).prefetch(tf.data.AUTOTUNE)"
   ]
  },
  {
   "cell_type": "code",
   "execution_count": 8,
   "metadata": {},
   "outputs": [
    {
     "name": "stdout",
     "output_type": "stream",
     "text": [
      "texts:  [b\"I wanted to see this movie ever since it was first advertised on TV. I went to Tinsel Town to see it Last Night at 7:40. I regret the day that wasted my ticket on this trash when I could of saw something better. The beginning was all a bunch sex trash and cliches. They exaggerated the way love works in reality. All of the girls were stereo types. The boyfriend was too stupid for his own age. The passing gases that the pregnant girl kept having barely got any laughs. The bank robbery was completely boring with gags that have been used in other movies. Their getaway car was an old beat up Chevy van that they claimed that had no breaks. Hey why didn't they get nice girlish vehicle for the robbery instead? It might have boosted the audience opinion about the movie. This movie was very low low low low low budgeted since nothing in there was damaged or destroyed. This movie had a lot of stuff in it that would drive Christian people nuts. Hey I even expected a car chase scene because all bank robbing movies have car chases but I but there was never any. So I rate this movie b which stands for low budgeted and 1 out of ten stars.\"\n",
      " b\"The problem with this movie is that it is shot on the worst possible camera and the film is blurry and grainy. Maybe it's just the fact that whoever was holding the camera couldn't hold still because they were having a seizure or something. There is also way too much poop and vomit in this movie. There is someone vomiting every twenty minutes and it makes me think that this was made by some bulimic or something. It was disgusting. Then there is the annoying high pitched screaming that goes on and on and on and doesn't stop until the credits roll. I also didn't like when all her friends were being shot (or not I don't know)and she goes in the van and puts band aids on. That was just really really stupid to even have that in a movie. How much gas can a person siphon to get a van going? It must be a whole lot because they don't run out of gas for the rest of the movie. It was a terrible movie and I would highly suggest not ever seeing it in your whole entire life.\"\n",
      " b'Undoubtedly the best heavy metal horror item made in the manically headbangin\\' 80\\'s, which admittedly doesn\\'t sound like much considering how utterly abysmal many other entries in this odd little fright film sub-genre like \"Hard Rock Zombies,\" \"Blood Tracks,\" \"Terror on Tour,\" and the especially ungodly Jon-Mikl Thor-starring stinker \"Rock\\'n\\'Roll Nightmare\" tended to be. That aside, this one still deserves props for downplaying the excessive splatter and needlessly flashy special f/x razzle-dazzle in favor of focusing on adolescent high school characters who are depicted with greater acuity and plausibility than the norm for a mid-80\\'s teen-targeted scarefest. Moreover, the film\\'s pointed sardonic parodying of both ridiculously overblown 80\\'s heavy metal stupidity and the nauseating self-righteousness of the uptight killjoy conservative stiffs who claimed it was the devil\\'s music are very clever and on the money funny (famed Greed Decade heavy metal god Ozzy Osbourne has a hilarious bit as a smarmy anti-metal TV evangelist!).<br /><br />Marc Price (the hopelessly dweeby Skippy on \"Family Ties\") gives a surprisingly strong and winning performance as Eddie \"Ragman\" Weinbauer, a geeky, socially awkward and severely persecuted heavy metal aficionado who\\'s constantly picked on by the stuck-up jerk preppie bullies who make up the majority of the student body at Lakeridge High School (the cruelty and mean-spiritedness of the high school kids is nailed with painfully credible accuracy). Eddie\\'s life takes a turn for the worse when his rock star idol Sammi Curr (an impressively whacked-out portrayal by Tony Fields) perishes in a hotel fire. Hip local disc jockey Nuke (KISS front-man Gene Simmons in a cool cameo) hooks Eddie up with Sammi\\'s final, unreleased album, which when played backwards resurrects Curr\\'s malevolent spirit back from the dead. Sammi encourages Eddie to sic him on all the vile scumbags who make poor Eddie\\'s life the proverbial living hell, only to have meek Eddie prove to be a most reluctant would-be accomplice. It\\'s up to Eddie, assisted by token nice girl Leslie Graham (likeably essayed by the lovely Lisa Orgolini), to stop Sammi before things get too out of hand.<br /><br />Ably directed with commendable thoughtfulness and sensitivity by character actor Charles Martin Smith (who also briefly appears as a nerdy school teacher), smartly written by Michael S. Murphy, Joel Soisson, and Rhet Topham, and capably acted by a uniformly up-to-snuff cast, this surefire sleeper even comes complete with a handful of nifty \"jump\" moments (an outrageous attack in the back of a car by a grotesquely lecherous long-tongued mutant thingie rates as the definite highlight), a rousing \"Carrie\"-style high school dance slaughter sequence, a neatly utilized Halloween setting, revenge being correctly shown as a truly ugly business, and a solid central message that you shouldn\\'t make a particular over-hyped person your hero strictly because of the calculated anti-establishment posturing said fellow does to qualify for that special status.']\n",
      "\n",
      "labels:  [0 0 1]\n"
     ]
    }
   ],
   "source": [
    "for example, label in train_dataset.take(1):\n",
    "  print('texts: ', example.numpy()[:3])\n",
    "  print()\n",
    "  print('labels: ', label.numpy()[:3])"
   ]
  },
  {
   "cell_type": "markdown",
   "metadata": {},
   "source": [
    "### Create the text encoder\n",
    "The raw text loaded by tfds needs to be processed before it can be used in a model. The simplest way to process text for training is using the experimental.preprocessing.TextVectorization layer. This layer has many capabilities, but this tutorial sticks to the default behavior.\n",
    "\n",
    "Create the layer, and pass the dataset's text to the layer's .adapt method:"
   ]
  },
  {
   "cell_type": "code",
   "execution_count": 9,
   "metadata": {},
   "outputs": [],
   "source": [
    "VOCAB_SIZE = 1000\n",
    "encoder = tf.keras.layers.experimental.preprocessing.TextVectorization(\n",
    "    max_tokens=VOCAB_SIZE)\n",
    "encoder.adapt(train_dataset.map(lambda text, label: text))"
   ]
  },
  {
   "cell_type": "markdown",
   "metadata": {},
   "source": [
    "The .adapt method sets the layer's vocabulary. Here are the first 20 tokens. After the padding and unknown tokens they're sorted by frequency:"
   ]
  },
  {
   "cell_type": "code",
   "execution_count": 10,
   "metadata": {},
   "outputs": [
    {
     "data": {
      "text/plain": [
       "array(['', '[UNK]', 'the', 'and', 'a', 'of', 'to', 'is', 'in', 'it', 'i',\n",
       "       'this', 'that', 'br', 'was', 'as', 'for', 'with', 'movie', 'but'],\n",
       "      dtype='<U14')"
      ]
     },
     "execution_count": 10,
     "metadata": {},
     "output_type": "execute_result"
    }
   ],
   "source": [
    "vocab = np.array(encoder.get_vocabulary())\n",
    "vocab[:20]"
   ]
  },
  {
   "cell_type": "markdown",
   "metadata": {},
   "source": [
    "Once the vocabulary is set, the layer can encode text into indices. The tensors of indices are 0-padded to the longest sequence in the batch (unless you set a fixed output_sequence_length):"
   ]
  },
  {
   "cell_type": "code",
   "execution_count": 11,
   "metadata": {},
   "outputs": [
    {
     "data": {
      "text/plain": [
       "array([[ 10, 453,   6, ...,   0,   0,   0],\n",
       "       [  2, 429,  17, ...,   0,   0,   0],\n",
       "       [  1,   2, 115, ...,   0,   0,   0]], dtype=int64)"
      ]
     },
     "execution_count": 11,
     "metadata": {},
     "output_type": "execute_result"
    }
   ],
   "source": [
    "encoded_example = encoder(example)[:3].numpy()\n",
    "encoded_example"
   ]
  },
  {
   "cell_type": "markdown",
   "metadata": {},
   "source": [
    "With the default settings, the process is not completely reversible. There are three main reasons for that:\n",
    "\n",
    "1. The default value for preprocessing.TextVectorization's standardize argument is \"lower_and_strip_punctuation\".\n",
    "\n",
    "2. The limited vocabulary size and lack of character-based fallback results in some unknown tokens."
   ]
  },
  {
   "cell_type": "code",
   "execution_count": 12,
   "metadata": {},
   "outputs": [
    {
     "name": "stdout",
     "output_type": "stream",
     "text": [
      "Original:  b\"I wanted to see this movie ever since it was first advertised on TV. I went to Tinsel Town to see it Last Night at 7:40. I regret the day that wasted my ticket on this trash when I could of saw something better. The beginning was all a bunch sex trash and cliches. They exaggerated the way love works in reality. All of the girls were stereo types. The boyfriend was too stupid for his own age. The passing gases that the pregnant girl kept having barely got any laughs. The bank robbery was completely boring with gags that have been used in other movies. Their getaway car was an old beat up Chevy van that they claimed that had no breaks. Hey why didn't they get nice girlish vehicle for the robbery instead? It might have boosted the audience opinion about the movie. This movie was very low low low low low budgeted since nothing in there was damaged or destroyed. This movie had a lot of stuff in it that would drive Christian people nuts. Hey I even expected a car chase scene because all bank robbing movies have car chases but I but there was never any. So I rate this movie b which stands for low budgeted and 1 out of ten stars.\"\n",
      "Round-trip:  i wanted to see this movie ever since it was first [UNK] on tv i went to [UNK] town to see it last night at [UNK] i [UNK] the day that [UNK] my [UNK] on this [UNK] when i could of saw something better the beginning was all a bunch sex [UNK] and [UNK] they [UNK] the way love works in reality all of the girls were [UNK] [UNK] the [UNK] was too stupid for his own age the [UNK] [UNK] that the [UNK] girl kept having [UNK] got any laughs the [UNK] [UNK] was completely boring with [UNK] that have been used in other movies their [UNK] car was an old [UNK] up [UNK] [UNK] that they [UNK] that had no [UNK] [UNK] why didnt they get nice [UNK] [UNK] for the [UNK] instead it might have [UNK] the audience opinion about the movie this movie was very low low low low low [UNK] since nothing in there was [UNK] or [UNK] this movie had a lot of stuff in it that would [UNK] [UNK] people [UNK] [UNK] i even expected a car [UNK] scene because all [UNK] [UNK] movies have car [UNK] but i but there was never any so i [UNK] this movie b which [UNK] for low [UNK] and 1 out of ten stars                                                                                                                                                                                                                                                                                                                                            \n",
      "\n",
      "Original:  b\"The problem with this movie is that it is shot on the worst possible camera and the film is blurry and grainy. Maybe it's just the fact that whoever was holding the camera couldn't hold still because they were having a seizure or something. There is also way too much poop and vomit in this movie. There is someone vomiting every twenty minutes and it makes me think that this was made by some bulimic or something. It was disgusting. Then there is the annoying high pitched screaming that goes on and on and on and doesn't stop until the credits roll. I also didn't like when all her friends were being shot (or not I don't know)and she goes in the van and puts band aids on. That was just really really stupid to even have that in a movie. How much gas can a person siphon to get a van going? It must be a whole lot because they don't run out of gas for the rest of the movie. It was a terrible movie and I would highly suggest not ever seeing it in your whole entire life.\"\n",
      "Round-trip:  the problem with this movie is that it is shot on the worst possible camera and the film is [UNK] and [UNK] maybe its just the fact that [UNK] was [UNK] the camera couldnt [UNK] still because they were having a [UNK] or something there is also way too much [UNK] and [UNK] in this movie there is someone [UNK] every [UNK] minutes and it makes me think that this was made by some [UNK] or something it was [UNK] then there is the annoying high [UNK] [UNK] that goes on and on and on and doesnt stop until the credits [UNK] i also didnt like when all her friends were being shot or not i dont [UNK] she goes in the [UNK] and [UNK] [UNK] [UNK] on that was just really really stupid to even have that in a movie how much [UNK] can a person [UNK] to get a [UNK] going it must be a whole lot because they dont run out of [UNK] for the rest of the movie it was a terrible movie and i would highly [UNK] not ever seeing it in your whole entire life                                                                                                                                                                                                                                                                                                                                                                       \n",
      "\n",
      "Original:  b'Undoubtedly the best heavy metal horror item made in the manically headbangin\\' 80\\'s, which admittedly doesn\\'t sound like much considering how utterly abysmal many other entries in this odd little fright film sub-genre like \"Hard Rock Zombies,\" \"Blood Tracks,\" \"Terror on Tour,\" and the especially ungodly Jon-Mikl Thor-starring stinker \"Rock\\'n\\'Roll Nightmare\" tended to be. That aside, this one still deserves props for downplaying the excessive splatter and needlessly flashy special f/x razzle-dazzle in favor of focusing on adolescent high school characters who are depicted with greater acuity and plausibility than the norm for a mid-80\\'s teen-targeted scarefest. Moreover, the film\\'s pointed sardonic parodying of both ridiculously overblown 80\\'s heavy metal stupidity and the nauseating self-righteousness of the uptight killjoy conservative stiffs who claimed it was the devil\\'s music are very clever and on the money funny (famed Greed Decade heavy metal god Ozzy Osbourne has a hilarious bit as a smarmy anti-metal TV evangelist!).<br /><br />Marc Price (the hopelessly dweeby Skippy on \"Family Ties\") gives a surprisingly strong and winning performance as Eddie \"Ragman\" Weinbauer, a geeky, socially awkward and severely persecuted heavy metal aficionado who\\'s constantly picked on by the stuck-up jerk preppie bullies who make up the majority of the student body at Lakeridge High School (the cruelty and mean-spiritedness of the high school kids is nailed with painfully credible accuracy). Eddie\\'s life takes a turn for the worse when his rock star idol Sammi Curr (an impressively whacked-out portrayal by Tony Fields) perishes in a hotel fire. Hip local disc jockey Nuke (KISS front-man Gene Simmons in a cool cameo) hooks Eddie up with Sammi\\'s final, unreleased album, which when played backwards resurrects Curr\\'s malevolent spirit back from the dead. Sammi encourages Eddie to sic him on all the vile scumbags who make poor Eddie\\'s life the proverbial living hell, only to have meek Eddie prove to be a most reluctant would-be accomplice. It\\'s up to Eddie, assisted by token nice girl Leslie Graham (likeably essayed by the lovely Lisa Orgolini), to stop Sammi before things get too out of hand.<br /><br />Ably directed with commendable thoughtfulness and sensitivity by character actor Charles Martin Smith (who also briefly appears as a nerdy school teacher), smartly written by Michael S. Murphy, Joel Soisson, and Rhet Topham, and capably acted by a uniformly up-to-snuff cast, this surefire sleeper even comes complete with a handful of nifty \"jump\" moments (an outrageous attack in the back of a car by a grotesquely lecherous long-tongued mutant thingie rates as the definite highlight), a rousing \"Carrie\"-style high school dance slaughter sequence, a neatly utilized Halloween setting, revenge being correctly shown as a truly ugly business, and a solid central message that you shouldn\\'t make a particular over-hyped person your hero strictly because of the calculated anti-establishment posturing said fellow does to qualify for that special status.'\n",
      "Round-trip:  [UNK] the best [UNK] [UNK] horror [UNK] made in the [UNK] [UNK] 80s which [UNK] doesnt sound like much [UNK] how [UNK] [UNK] many other [UNK] in this [UNK] little [UNK] film [UNK] like hard rock [UNK] blood [UNK] [UNK] on [UNK] and the especially [UNK] [UNK] [UNK] [UNK] [UNK] [UNK] [UNK] to be that [UNK] this one still deserves [UNK] for [UNK] the [UNK] [UNK] and [UNK] [UNK] special [UNK] [UNK] in [UNK] of [UNK] on [UNK] high school characters who are [UNK] with [UNK] [UNK] and [UNK] than the [UNK] for a [UNK] [UNK] [UNK] [UNK] the films [UNK] [UNK] [UNK] of both [UNK] [UNK] 80s [UNK] [UNK] [UNK] and the [UNK] [UNK] of the [UNK] [UNK] [UNK] [UNK] who [UNK] it was the [UNK] music are very [UNK] and on the money funny [UNK] [UNK] [UNK] [UNK] [UNK] god [UNK] [UNK] has a hilarious bit as a [UNK] [UNK] tv [UNK] br [UNK] [UNK] the [UNK] [UNK] [UNK] on family [UNK] gives a [UNK] strong and [UNK] performance as [UNK] [UNK] [UNK] a [UNK] [UNK] [UNK] and [UNK] [UNK] [UNK] [UNK] [UNK] whos [UNK] [UNK] on by the [UNK] [UNK] [UNK] [UNK] who make up the [UNK] of the [UNK] body at [UNK] high school the [UNK] and [UNK] of the high school kids is [UNK] with [UNK] [UNK] [UNK] [UNK] life takes a turn for the worse when his rock star [UNK] [UNK] [UNK] an [UNK] [UNK] [UNK] by [UNK] [UNK] [UNK] in a [UNK] fire [UNK] local [UNK] [UNK] [UNK] [UNK] [UNK] [UNK] [UNK] in a cool [UNK] [UNK] [UNK] up with [UNK] final [UNK] [UNK] which when played [UNK] [UNK] [UNK] [UNK] [UNK] back from the dead [UNK] [UNK] [UNK] to [UNK] him on all the [UNK] [UNK] who make poor [UNK] life the [UNK] living hell only to have [UNK] [UNK] [UNK] to be a most [UNK] [UNK] [UNK] its up to [UNK] [UNK] by [UNK] nice girl [UNK] [UNK] [UNK] [UNK] by the [UNK] [UNK] [UNK] to stop [UNK] before things get too out of [UNK] br [UNK] directed with [UNK] [UNK] and [UNK] by character actor [UNK] [UNK] [UNK] who also [UNK] appears as a [UNK] school [UNK] [UNK] written by michael [UNK] [UNK] [UNK] [UNK] and [UNK] [UNK] and [UNK] [UNK] by a [UNK] [UNK] cast this [UNK] [UNK] even comes complete with a [UNK] of [UNK] [UNK] moments an [UNK] [UNK] in the back of a car by a [UNK] [UNK] [UNK] [UNK] [UNK] [UNK] as the [UNK] [UNK] a [UNK] [UNK] high school dance [UNK] sequence a [UNK] [UNK] [UNK] setting [UNK] being [UNK] shown as a truly [UNK] business and a [UNK] [UNK] message that you [UNK] make a particular [UNK] person your hero [UNK] because of the [UNK] [UNK] [UNK] said [UNK] does to [UNK] for that special [UNK]                                                                             \n",
      "\n"
     ]
    }
   ],
   "source": [
    "for n in range(3):\n",
    "  print(\"Original: \", example[n].numpy())\n",
    "  print(\"Round-trip: \", \" \".join(vocab[encoded_example[n]]))\n",
    "  print()"
   ]
  },
  {
   "cell_type": "markdown",
   "metadata": {},
   "source": [
    "1. This model can be build as a tf.keras.Sequential.\n",
    "\n",
    "2. The first layer is the encoder, which converts the text to a sequence of token indices.\n",
    "\n",
    "3. After the encoder is an embedding layer. An embedding layer stores one vector per word. When called, it converts the sequences of word indices to sequences of vectors. These vectors are trainable. After training (on enough data), words with similar meanings often have similar vectors.\n",
    "\n",
    "4. This index-lookup is much more efficient than the equivalent operation of passing a one-hot encoded vector through a tf.keras.layers.Dense layer.\n",
    "\n",
    "5. A recurrent neural network (RNN) processes sequence input by iterating through the elements. RNNs pass the outputs from one timestep to their input on the next timestep.\n",
    "\n",
    "6. The tf.keras.layers.Bidirectional wrapper can also be used with an RNN layer. This propagates the input forward and backwards through the RNN layer and then concatenates the final output.\n",
    "\n",
    "7. The main advantage of a bidirectional RNN is that the signal from the beginning of the input doesn't need to be processed all the way through every timestep to affect the output.\n",
    "\n",
    "8. The main disadvantage of a bidirectional RNN is that you can't efficiently stream predictions as words are being added to the end.\n",
    "\n",
    "9. After the RNN has converted the sequence to a single vector the two layers.Dense do some final processing, and convert from this vector representation to a single logit as the classification output."
   ]
  },
  {
   "cell_type": "code",
   "execution_count": 13,
   "metadata": {},
   "outputs": [],
   "source": [
    "model = tf.keras.Sequential([\n",
    "    encoder,\n",
    "    tf.keras.layers.Embedding(\n",
    "        input_dim=len(encoder.get_vocabulary()),\n",
    "        output_dim=64,\n",
    "        # Use masking to handle the variable sequence lengths\n",
    "        mask_zero=True),\n",
    "    tf.keras.layers.Bidirectional(tf.keras.layers.LSTM(64)),\n",
    "    tf.keras.layers.Dense(64, activation='relu'),\n",
    "    tf.keras.layers.Dense(1)\n",
    "])"
   ]
  },
  {
   "cell_type": "code",
   "execution_count": 14,
   "metadata": {
    "scrolled": true
   },
   "outputs": [
    {
     "name": "stdout",
     "output_type": "stream",
     "text": [
      "[False, True, True, True, True]\n"
     ]
    }
   ],
   "source": [
    "print([layer.supports_masking for layer in model.layers])\n"
   ]
  },
  {
   "cell_type": "markdown",
   "metadata": {},
   "source": [
    "To confirm that this works as expected, evaluate a sentence twice. First, alone so there's no padding to mask:"
   ]
  },
  {
   "cell_type": "code",
   "execution_count": 15,
   "metadata": {},
   "outputs": [
    {
     "name": "stdout",
     "output_type": "stream",
     "text": [
      "[-0.01623528]\n"
     ]
    }
   ],
   "source": [
    "# predict on a sample text without padding.\n",
    "\n",
    "sample_text = ('The movie was cool. The animation and the graphics '\n",
    "               'were out of this world. I would recommend this movie.')\n",
    "predictions = model.predict(np.array([sample_text]))\n",
    "print(predictions[0])"
   ]
  },
  {
   "cell_type": "markdown",
   "metadata": {},
   "source": [
    "Now, evaluate it again in a batch with a longer sentence. The result should be identical:"
   ]
  },
  {
   "cell_type": "code",
   "execution_count": 16,
   "metadata": {},
   "outputs": [
    {
     "name": "stdout",
     "output_type": "stream",
     "text": [
      "[-0.01623527]\n"
     ]
    }
   ],
   "source": [
    "# predict on a sample text with padding\n",
    "\n",
    "padding = \"the \" * 2000\n",
    "predictions = model.predict(np.array([sample_text, padding]))\n",
    "print(predictions[0])"
   ]
  },
  {
   "cell_type": "markdown",
   "metadata": {},
   "source": [
    "Compile the Keras model to configure the training process:"
   ]
  },
  {
   "cell_type": "code",
   "execution_count": 17,
   "metadata": {},
   "outputs": [],
   "source": [
    "model.compile(loss=tf.keras.losses.BinaryCrossentropy(from_logits=True),\n",
    "              optimizer=tf.keras.optimizers.Adam(1e-4),\n",
    "              metrics=['accuracy'])"
   ]
  },
  {
   "cell_type": "markdown",
   "metadata": {},
   "source": [
    "### Train the model"
   ]
  },
  {
   "cell_type": "code",
   "execution_count": 21,
   "metadata": {},
   "outputs": [
    {
     "name": "stdout",
     "output_type": "stream",
     "text": [
      "Epoch 1/2\n",
      "391/391 [==============================] - 440s 1s/step - loss: 0.6307 - accuracy: 0.5869 - val_loss: 0.4833 - val_accuracy: 0.7693\n",
      "Epoch 2/2\n",
      "391/391 [==============================] - 479s 1s/step - loss: 0.3955 - accuracy: 0.8214 - val_loss: 0.3585 - val_accuracy: 0.8469\n"
     ]
    }
   ],
   "source": [
    "history = model.fit(train_dataset, epochs=2,\n",
    "                    validation_data=test_dataset,\n",
    "                    validation_steps=30)"
   ]
  },
  {
   "cell_type": "code",
   "execution_count": 22,
   "metadata": {},
   "outputs": [
    {
     "name": "stdout",
     "output_type": "stream",
     "text": [
      "391/391 [==============================] - 59s 152ms/step - loss: 0.3516 - accuracy: 0.8500\n",
      "Test Loss: 0.3516426682472229\n",
      "Test Accuracy: 0.8500000238418579\n"
     ]
    }
   ],
   "source": [
    "test_loss, test_acc = model.evaluate(test_dataset)\n",
    "\n",
    "print('Test Loss:', test_loss)\n",
    "print('Test Accuracy:', test_acc)"
   ]
  },
  {
   "cell_type": "code",
   "execution_count": 23,
   "metadata": {},
   "outputs": [
    {
     "data": {
      "text/plain": [
       "(0.0, 0.6443523734807968)"
      ]
     },
     "execution_count": 23,
     "metadata": {},
     "output_type": "execute_result"
    },
    {
     "data": {
      "image/png": "[encoded data removed]",
      "text/plain": [
       "<Figure size 1152x576 with 2 Axes>"
      ]
     },
     "metadata": {
      "needs_background": "light"
     },
     "output_type": "display_data"
    }
   ],
   "source": [
    "plt.figure(figsize=(16, 8))\n",
    "plt.subplot(1, 2, 1)\n",
    "plot_graphs(history, 'accuracy')\n",
    "plt.ylim(None, 1)\n",
    "plt.subplot(1, 2, 2)\n",
    "plot_graphs(history, 'loss')\n",
    "plt.ylim(0, None)"
   ]
  },
  {
   "cell_type": "code",
   "execution_count": 24,
   "metadata": {},
   "outputs": [],
   "source": [
    "sample_text = ('The movie was cool. The animation and the graphics '\n",
    "               'were out of this world. I would recommend this movie.')\n",
    "predictions = model.predict(np.array([sample_text]))"
   ]
  },
  {
   "cell_type": "markdown",
   "metadata": {},
   "source": [
    "### Stack two or more LSTM layers\n",
    "Keras recurrent layers have two available modes that are controlled by the return_sequences constructor argument:\n",
    "\n",
    "- If False it returns only the last output for each input sequence (a 2D tensor of shape (batch_size, output_features)). This is the default, used in the previous model.\n",
    "\n",
    "- If True the full sequences of successive outputs for each timestep is returned (a 3D tensor of shape (batch_size, timesteps, output_features)).\n",
    "\n",
    "Here is what the flow of information looks like with return_sequences=True:\n",
    "\n",
    "<img src=\"https://www.tensorflow.org/text/tutorials/images/layered_bidirectional.png\" alt=\"Diagram of one-hot encodings\" width=\"400\" />\n",
    "\n",
    "The interesting thing about using an RNN with return_sequences=True is that the output still has 3-axes, like the input, so it can be passed to another RNN layer, like this:"
   ]
  },
  {
   "cell_type": "code",
   "execution_count": 25,
   "metadata": {},
   "outputs": [],
   "source": [
    "model = tf.keras.Sequential([\n",
    "    encoder,\n",
    "    tf.keras.layers.Embedding(len(encoder.get_vocabulary()), 64, mask_zero=True),\n",
    "    tf.keras.layers.Bidirectional(tf.keras.layers.LSTM(64,  return_sequences=True)),\n",
    "    tf.keras.layers.Bidirectional(tf.keras.layers.LSTM(32)),\n",
    "    tf.keras.layers.Dense(64, activation='relu'),\n",
    "    tf.keras.layers.Dropout(0.5),\n",
    "    tf.keras.layers.Dense(1)\n",
    "])"
   ]
  },
  {
   "cell_type": "code",
   "execution_count": 26,
   "metadata": {},
   "outputs": [],
   "source": [
    "model.compile(loss=tf.keras.losses.BinaryCrossentropy(from_logits=True),\n",
    "              optimizer=tf.keras.optimizers.Adam(1e-4),\n",
    "              metrics=['accuracy'])"
   ]
  },
  {
   "cell_type": "code",
   "execution_count": 27,
   "metadata": {},
   "outputs": [
    {
     "name": "stdout",
     "output_type": "stream",
     "text": [
      "Epoch 1/2\n",
      "391/391 [==============================] - 652s 2s/step - loss: 0.6225 - accuracy: 0.5890 - val_loss: 0.4299 - val_accuracy: 0.8016\n",
      "Epoch 2/2\n",
      "391/391 [==============================] - 687s 2s/step - loss: 0.3890 - accuracy: 0.8314 - val_loss: 0.3562 - val_accuracy: 0.8443\n"
     ]
    }
   ],
   "source": [
    "history = model.fit(train_dataset, epochs=2,\n",
    "                    validation_data=test_dataset,\n",
    "                    validation_steps=30)"
   ]
  },
  {
   "cell_type": "code",
   "execution_count": 28,
   "metadata": {},
   "outputs": [
    {
     "name": "stdout",
     "output_type": "stream",
     "text": [
      "391/391 [==============================] - 186s 475ms/step - loss: 0.3478 - accuracy: 0.8518\n",
      "Test Loss: 0.3478490710258484\n",
      "Test Accuracy: 0.8517600297927856\n"
     ]
    }
   ],
   "source": [
    "test_loss, test_acc = model.evaluate(test_dataset)\n",
    "\n",
    "print('Test Loss:', test_loss)\n",
    "print('Test Accuracy:', test_acc)"
   ]
  },
  {
   "cell_type": "code",
   "execution_count": 29,
   "metadata": {},
   "outputs": [
    {
     "name": "stdout",
     "output_type": "stream",
     "text": [
      "[[-0.8163839]]\n"
     ]
    }
   ],
   "source": [
    "# predict on a sample text without padding.\n",
    "\n",
    "sample_text = ('The movie was not good. The animation and the graphics '\n",
    "               'were terrible. I would not recommend this movie.')\n",
    "predictions = model.predict(np.array([sample_text]))\n",
    "print(predictions)"
   ]
  },
  {
   "cell_type": "code",
   "execution_count": 30,
   "metadata": {},
   "outputs": [
    {
     "data": {
      "image/png": "[encoded data removed]",
      "text/plain": [
       "<Figure size 1152x432 with 2 Axes>"
      ]
     },
     "metadata": {
      "needs_background": "light"
     },
     "output_type": "display_data"
    }
   ],
   "source": [
    "plt.figure(figsize=(16, 6))\n",
    "plt.subplot(1, 2, 1)\n",
    "plot_graphs(history, 'accuracy')\n",
    "plt.subplot(1, 2, 2)\n",
    "plot_graphs(history, 'loss')"
   ]
  },
  {
   "cell_type": "markdown",
   "metadata": {},
   "source": [
    "If you're interestied in building custom RNNs, see the Keras RNN Guide: https://www.tensorflow.org/guide/keras/rnn\n",
    "\n",
    "\n",
    "\n",
    "## CNN for texts\n",
    "\n",
    "\n",
    "<img src=\"https://miro.medium.com/max/11308/1*51dkqMhE21qKtzkEwl5PqA.jpeg\" alt=\"Diagram of one-hot encodings\" width=\"800\" />\n",
    "\n",
    "\n",
    "In this tutorial we will do the following steps:\n",
    "\n",
    "- Data Preparation\n",
    "- Train Embedding Layer\n",
    "- Train word2vec Embedding\n",
    "- Use Pre-trained Embedding\n"
   ]
  },
  {
   "cell_type": "code",
   "execution_count": 31,
   "metadata": {},
   "outputs": [
    {
     "name": "stdout",
     "output_type": "stream",
     "text": [
      "Requirement already satisfied: nltk in c:\\users\\asa279\\anaconda3\\lib\\site-packages (3.6.1)\n",
      "Requirement already satisfied: joblib in c:\\users\\asa279\\anaconda3\\lib\\site-packages (from nltk) (1.0.1)\n",
      "Requirement already satisfied: regex in c:\\users\\asa279\\anaconda3\\lib\\site-packages (from nltk) (2021.4.4)\n",
      "Requirement already satisfied: tqdm in c:\\users\\asa279\\anaconda3\\lib\\site-packages (from nltk) (4.59.0)\n",
      "Requirement already satisfied: click in c:\\users\\asa279\\anaconda3\\lib\\site-packages (from nltk) (7.1.2)\n",
      "Note: you may need to restart the kernel to use updated packages.\n"
     ]
    }
   ],
   "source": [
    "%pip install nltk"
   ]
  },
  {
   "cell_type": "code",
   "execution_count": 33,
   "metadata": {},
   "outputs": [
    {
     "name": "stdout",
     "output_type": "stream",
     "text": [
      "44276\n",
      "[('film', 7983), ('one', 4946), ('movie', 4826), ('like', 3201), ('even', 2262), ('good', 2080), ('time', 2041), ('story', 1907), ('films', 1873), ('would', 1844), ('much', 1824), ('also', 1757), ('characters', 1735), ('get', 1724), ('character', 1703), ('two', 1643), ('first', 1588), ('see', 1557), ('way', 1515), ('well', 1511), ('make', 1418), ('really', 1407), ('little', 1351), ('life', 1334), ('plot', 1288), ('people', 1269), ('bad', 1248), ('could', 1248), ('scene', 1241), ('movies', 1238), ('never', 1201), ('best', 1179), ('new', 1140), ('scenes', 1135), ('man', 1131), ('many', 1130), ('doesnt', 1118), ('know', 1092), ('dont', 1086), ('hes', 1024), ('great', 1014), ('another', 992), ('action', 985), ('love', 977), ('us', 967), ('go', 952), ('director', 948), ('end', 946), ('something', 945), ('still', 936)]\n"
     ]
    }
   ],
   "source": [
    "from string import punctuation\n",
    "from os import listdir\n",
    "from collections import Counter\n",
    "from nltk.corpus import stopwords\n",
    "\n",
    "# load doc into memory\n",
    "def load_doc(filename):\n",
    "    # open the file as read only\n",
    "    file = open(filename, 'r')\n",
    "    # read all text\n",
    "    text = file.read()\n",
    "    # close the file\n",
    "    file.close()\n",
    "    return text\n",
    "\n",
    "# turn a doc into clean tokens\n",
    "def clean_doc(doc):\n",
    "    # split into tokens by white space\n",
    "    tokens = doc.split()\n",
    "    # remove punctuation from each token\n",
    "    table = str.maketrans('', '', punctuation)\n",
    "    tokens = [w.translate(table) for w in tokens]\n",
    "    # remove remaining tokens that are not alphabetic\n",
    "    tokens = [word for word in tokens if word.isalpha()]\n",
    "    # filter out stop words\n",
    "    stop_words = set(stopwords.words('english'))\n",
    "    tokens = [w for w in tokens if not w in stop_words]\n",
    "    # filter out short tokens\n",
    "    tokens = [word for word in tokens if len(word) > 1]\n",
    "    return tokens\n",
    "\n",
    "# load doc and add to vocab\n",
    "def add_doc_to_vocab(filename, vocab):\n",
    "    # load doc\n",
    "    doc = load_doc(filename)\n",
    "    # clean doc\n",
    "    tokens = clean_doc(doc)\n",
    "    # update counts\n",
    "    vocab.update(tokens)\n",
    "\n",
    "# load all docs in a directory\n",
    "def process_docs(directory, vocab, is_trian):\n",
    "    # walk through all files in the folder\n",
    "    for filename in listdir(directory):\n",
    "        # skip any reviews in the test set\n",
    "        if is_trian and filename.startswith('cv9'):\n",
    "            continue\n",
    "        if not is_trian and not filename.startswith('cv9'):\n",
    "            continue\n",
    "        # create the full path of the file to open\n",
    "        path = directory + '/' + filename\n",
    "        # add doc to vocab\n",
    "        add_doc_to_vocab(path, vocab)\n",
    "\n",
    "# define vocab\n",
    "vocab = Counter()\n",
    "# add all docs to vocab\n",
    "process_docs('txt_sentoken/neg', vocab, True)\n",
    "process_docs('txt_sentoken/pos', vocab, True)\n",
    "# print the size of the vocab\n",
    "print(len(vocab))\n",
    "# print the top words in the vocab\n",
    "print(vocab.most_common(50))"
   ]
  },
  {
   "cell_type": "code",
   "execution_count": 34,
   "metadata": {},
   "outputs": [
    {
     "name": "stdout",
     "output_type": "stream",
     "text": [
      "25767\n"
     ]
    }
   ],
   "source": [
    "# keep tokens with a min occurrence\n",
    "min_occurane = 2\n",
    "tokens = [k for k,c in vocab.items() if c >= min_occurane]\n",
    "print(len(tokens))"
   ]
  },
  {
   "cell_type": "code",
   "execution_count": 35,
   "metadata": {},
   "outputs": [],
   "source": [
    "def save_list(lines, filename):\n",
    "    # convert lines to a single blob of text\n",
    "    data = '\\n'.join(lines)\n",
    "    # open file\n",
    "    file = open(filename, 'w')\n",
    "    # write text\n",
    "    file.write(data)\n",
    "    # close file\n",
    "    file.close()\n",
    "\n",
    "# save tokens to a vocabulary file\n",
    "save_list(tokens, 'vocab.txt')"
   ]
  },
  {
   "cell_type": "markdown",
   "metadata": {},
   "source": [
    "### Let's now train embedding layer!"
   ]
  },
  {
   "cell_type": "code",
   "execution_count": 36,
   "metadata": {
    "scrolled": true
   },
   "outputs": [
    {
     "name": "stdout",
     "output_type": "stream",
     "text": [
      "Model: \"sequential\"\n",
      "_________________________________________________________________\n",
      "Layer (type)                 Output Shape              Param #   \n",
      "=================================================================\n",
      "embedding (Embedding)        (None, 1317, 100)         2576800   \n",
      "_________________________________________________________________\n",
      "conv1d (Conv1D)              (None, 1310, 32)          25632     \n",
      "_________________________________________________________________\n",
      "max_pooling1d (MaxPooling1D) (None, 655, 32)           0         \n",
      "_________________________________________________________________\n",
      "flatten (Flatten)            (None, 20960)             0         \n",
      "_________________________________________________________________\n",
      "dense (Dense)                (None, 10)                209610    \n",
      "_________________________________________________________________\n",
      "dense_1 (Dense)              (None, 1)                 11        \n",
      "=================================================================\n",
      "Total params: 2,812,053\n",
      "Trainable params: 2,812,053\n",
      "Non-trainable params: 0\n",
      "_________________________________________________________________\n",
      "None\n",
      "Epoch 1/10\n",
      "57/57 - 19s - loss: 0.6946 - accuracy: 0.4972\n",
      "Epoch 2/10\n",
      "57/57 - 5s - loss: 0.6932 - accuracy: 0.5006\n",
      "Epoch 3/10\n",
      "57/57 - 5s - loss: 0.6931 - accuracy: 0.5106\n",
      "Epoch 4/10\n",
      "57/57 - 5s - loss: 0.6805 - accuracy: 0.5867\n",
      "Epoch 5/10\n",
      "57/57 - 5s - loss: 0.5298 - accuracy: 0.7656\n",
      "Epoch 6/10\n",
      "57/57 - 5s - loss: 0.3921 - accuracy: 0.9161\n",
      "Epoch 7/10\n",
      "57/57 - 5s - loss: 0.3312 - accuracy: 0.9639\n",
      "Epoch 8/10\n",
      "57/57 - 6s - loss: 0.3006 - accuracy: 0.9806\n",
      "Epoch 9/10\n",
      "57/57 - 7s - loss: 0.2798 - accuracy: 0.9844\n",
      "Epoch 10/10\n",
      "57/57 - 6s - loss: 0.2617 - accuracy: 0.9894\n",
      "Test Accuracy: 79.000002\n"
     ]
    }
   ],
   "source": [
    "from string import punctuation\n",
    "from os import listdir\n",
    "from numpy import array\n",
    "from keras.preprocessing.text import Tokenizer\n",
    "from keras.preprocessing.sequence import pad_sequences\n",
    "from keras.models import Sequential\n",
    "from keras.layers import Dense\n",
    "from keras.layers import Flatten\n",
    "from keras.layers import Embedding\n",
    "from keras.layers.convolutional import Conv1D\n",
    "from keras.layers.convolutional import MaxPooling1D\n",
    "\n",
    "# load doc into memory\n",
    "def load_doc(filename):\n",
    "    # open the file as read only\n",
    "    file = open(filename, 'r')\n",
    "    # read all text\n",
    "    text = file.read()\n",
    "    # close the file\n",
    "    file.close()\n",
    "    return text\n",
    "\n",
    "# turn a doc into clean tokens\n",
    "def clean_doc(doc, vocab):\n",
    "    # split into tokens by white space\n",
    "    tokens = doc.split()\n",
    "    # remove punctuation from each token\n",
    "    table = str.maketrans('', '', punctuation)\n",
    "    tokens = [w.translate(table) for w in tokens]\n",
    "    # filter out tokens not in vocab\n",
    "    tokens = [w for w in tokens if w in vocab]\n",
    "    tokens = ' '.join(tokens)\n",
    "    return tokens\n",
    "\n",
    "# load all docs in a directory\n",
    "def process_docs(directory, vocab, is_trian):\n",
    "    documents = list()\n",
    "    # walk through all files in the folder\n",
    "    for filename in listdir(directory):\n",
    "        # skip any reviews in the test set\n",
    "        if is_trian and filename.startswith('cv9'):\n",
    "            continue\n",
    "        if not is_trian and not filename.startswith('cv9'):\n",
    "            continue\n",
    "        # create the full path of the file to open\n",
    "        path = directory + '/' + filename\n",
    "        # load the doc\n",
    "        doc = load_doc(path)\n",
    "        # clean doc\n",
    "        tokens = clean_doc(doc, vocab)\n",
    "        # add to list\n",
    "        documents.append(tokens)\n",
    "    return documents\n",
    "\n",
    "# load the vocabulary\n",
    "vocab_filename = 'vocab.txt'\n",
    "vocab = load_doc(vocab_filename)\n",
    "vocab = vocab.split()\n",
    "vocab = set(vocab)\n",
    "\n",
    "# load all training reviews\n",
    "positive_docs = process_docs('txt_sentoken/pos', vocab, True)\n",
    "negative_docs = process_docs('txt_sentoken/neg', vocab, True)\n",
    "train_docs = negative_docs + positive_docs\n",
    "\n",
    "# create the tokenizer\n",
    "tokenizer = Tokenizer()\n",
    "# fit the tokenizer on the documents\n",
    "tokenizer.fit_on_texts(train_docs)\n",
    "\n",
    "# sequence encode\n",
    "encoded_docs = tokenizer.texts_to_sequences(train_docs)\n",
    "# pad sequences\n",
    "max_length = max([len(s.split()) for s in train_docs])\n",
    "Xtrain = pad_sequences(encoded_docs, maxlen=max_length, padding='post')\n",
    "# define training labels\n",
    "ytrain = array([0 for _ in range(900)] + [1 for _ in range(900)])\n",
    "\n",
    "# load all test reviews\n",
    "positive_docs = process_docs('txt_sentoken/pos', vocab, False)\n",
    "negative_docs = process_docs('txt_sentoken/neg', vocab, False)\n",
    "test_docs = negative_docs + positive_docs\n",
    "# sequence encode\n",
    "encoded_docs = tokenizer.texts_to_sequences(test_docs)\n",
    "# pad sequences\n",
    "Xtest = pad_sequences(encoded_docs, maxlen=max_length, padding='post')\n",
    "# define test labels\n",
    "ytest = array([0 for _ in range(100)] + [1 for _ in range(100)])\n",
    "\n",
    "# define vocabulary size (largest integer value)\n",
    "vocab_size = len(tokenizer.word_index) + 1\n",
    "\n",
    "# define model\n",
    "model = Sequential()\n",
    "model.add(Embedding(vocab_size, 100, input_length=max_length))\n",
    "model.add(Conv1D(filters=32, kernel_size=8, activation='relu'))\n",
    "model.add(MaxPooling1D(pool_size=2))\n",
    "model.add(Flatten())\n",
    "model.add(Dense(10, activation='relu'))\n",
    "model.add(Dense(1, activation='sigmoid'))\n",
    "print(model.summary())\n",
    "# compile network\n",
    "model.compile(loss='binary_crossentropy', optimizer='adam', metrics=['accuracy'])\n",
    "# fit network\n",
    "model.fit(Xtrain, ytrain, epochs=10, verbose=2)\n",
    "# evaluate\n",
    "loss, acc = model.evaluate(Xtest, ytest, verbose=0)\n",
    "print('Test Accuracy: %f' % (acc*100))"
   ]
  },
  {
   "cell_type": "markdown",
   "metadata": {},
   "source": [
    "### Train word2vec Embedding"
   ]
  },
  {
   "cell_type": "code",
   "execution_count": null,
   "metadata": {},
   "outputs": [],
   "source": [
    "%pip install gensim"
   ]
  },
  {
   "cell_type": "code",
   "execution_count": 37,
   "metadata": {},
   "outputs": [
    {
     "name": "stderr",
     "output_type": "stream",
     "text": [
      "C:\\Users\\asa279\\Anaconda3\\lib\\site-packages\\gensim\\similarities\\__init__.py:15: UserWarning: The gensim.similarities.levenshtein submodule is disabled, because the optional Levenshtein package <https://pypi.org/project/python-Levenshtein/> is unavailable. Install Levenhstein (e.g. `pip install python-Levenshtein`) to suppress this warning.\n",
      "  warnings.warn(msg)\n"
     ]
    },
    {
     "name": "stdout",
     "output_type": "stream",
     "text": [
      "Total training sentences: 58109\n",
      "Vocabulary size: 25767\n"
     ]
    }
   ],
   "source": [
    "from string import punctuation\n",
    "from os import listdir\n",
    "from gensim.models import Word2Vec\n",
    "\n",
    "# load doc into memory\n",
    "def load_doc(filename):\n",
    "    # open the file as read only\n",
    "    file = open(filename, 'r')\n",
    "    # read all text\n",
    "    text = file.read()\n",
    "    # close the file\n",
    "    file.close()\n",
    "    return text\n",
    "\n",
    "# turn a doc into clean tokens\n",
    "def doc_to_clean_lines(doc, vocab):\n",
    "    clean_lines = list()\n",
    "    lines = doc.splitlines()\n",
    "    for line in lines:\n",
    "        # split into tokens by white space\n",
    "        tokens = line.split()\n",
    "        # remove punctuation from each token\n",
    "        table = str.maketrans('', '', punctuation)\n",
    "        tokens = [w.translate(table) for w in tokens]\n",
    "        # filter out tokens not in vocab\n",
    "        tokens = [w for w in tokens if w in vocab]\n",
    "        clean_lines.append(tokens)\n",
    "    return clean_lines\n",
    "\n",
    "# load all docs in a directory\n",
    "def process_docs(directory, vocab, is_trian):\n",
    "    lines = list()\n",
    "    # walk through all files in the folder\n",
    "    for filename in listdir(directory):\n",
    "        # skip any reviews in the test set\n",
    "        if is_trian and filename.startswith('cv9'):\n",
    "            continue\n",
    "        if not is_trian and not filename.startswith('cv9'):\n",
    "            continue\n",
    "        # create the full path of the file to open\n",
    "        path = directory + '/' + filename\n",
    "        # load and clean the doc\n",
    "        doc = load_doc(path)\n",
    "        doc_lines = doc_to_clean_lines(doc, vocab)\n",
    "        # add lines to list\n",
    "        lines += doc_lines\n",
    "    return lines\n",
    "\n",
    "# load the vocabulary\n",
    "vocab_filename = 'vocab.txt'\n",
    "vocab = load_doc(vocab_filename)\n",
    "vocab = vocab.split()\n",
    "vocab = set(vocab)\n",
    "\n",
    "# load training data\n",
    "positive_docs = process_docs('txt_sentoken/pos', vocab, True)\n",
    "negative_docs = process_docs('txt_sentoken/neg', vocab, True)\n",
    "sentences = negative_docs + positive_docs\n",
    "print('Total training sentences: %d' % len(sentences))\n",
    "\n",
    "# train word2vec model\n",
    "model = Word2Vec(sentences, vector_size=100, window=5, workers=8, min_count=1)\n",
    "# summarize vocabulary size in model\n",
    "words = list(model.wv.index_to_key)\n",
    "print('Vocabulary size: %d' % len(words))\n",
    "\n",
    "# save model in ASCII (word2vec) format\n",
    "filename = 'embedding_word2vec.txt'\n",
    "model.wv.save_word2vec_format(filename, binary=False)"
   ]
  },
  {
   "cell_type": "markdown",
   "metadata": {},
   "source": [
    "### Use Pre-trained Embedding\n",
    "\n",
    "In this section, we will use a pre-trained word embedding prepared on a very large text corpus.\n",
    "\n",
    "We can use the pre-trained word embedding developed in the previous section and the CNN model developed in the section before that."
   ]
  },
  {
   "cell_type": "code",
   "execution_count": 39,
   "metadata": {},
   "outputs": [
    {
     "name": "stdout",
     "output_type": "stream",
     "text": [
      "Model: \"sequential_1\"\n",
      "_________________________________________________________________\n",
      "Layer (type)                 Output Shape              Param #   \n",
      "=================================================================\n",
      "embedding_1 (Embedding)      (None, 1317, 100)         2576800   \n",
      "_________________________________________________________________\n",
      "conv1d_1 (Conv1D)            (None, 1313, 128)         64128     \n",
      "_________________________________________________________________\n",
      "max_pooling1d_1 (MaxPooling1 (None, 656, 128)          0         \n",
      "_________________________________________________________________\n",
      "flatten_1 (Flatten)          (None, 83968)             0         \n",
      "_________________________________________________________________\n",
      "dense_2 (Dense)              (None, 1)                 83969     \n",
      "=================================================================\n",
      "Total params: 2,724,897\n",
      "Trainable params: 148,097\n",
      "Non-trainable params: 2,576,800\n",
      "_________________________________________________________________\n",
      "None\n",
      "Epoch 1/10\n",
      "57/57 - 7s - loss: 0.7212 - accuracy: 0.5383\n",
      "Epoch 2/10\n",
      "57/57 - 6s - loss: 0.6592 - accuracy: 0.6011\n",
      "Epoch 3/10\n",
      "57/57 - 6s - loss: 0.5810 - accuracy: 0.6994\n",
      "Epoch 4/10\n",
      "57/57 - 6s - loss: 0.4745 - accuracy: 0.7761\n",
      "Epoch 5/10\n",
      "57/57 - 6s - loss: 0.3576 - accuracy: 0.8661\n",
      "Epoch 6/10\n",
      "57/57 - 6s - loss: 0.2525 - accuracy: 0.9200\n",
      "Epoch 7/10\n",
      "57/57 - 6s - loss: 0.1706 - accuracy: 0.9622\n",
      "Epoch 8/10\n",
      "57/57 - 6s - loss: 0.1032 - accuracy: 0.9889\n",
      "Epoch 9/10\n",
      "57/57 - 6s - loss: 0.0618 - accuracy: 0.9967\n",
      "Epoch 10/10\n",
      "57/57 - 6s - loss: 0.0383 - accuracy: 0.9989\n",
      "Test Accuracy: 57.499999\n"
     ]
    }
   ],
   "source": [
    "from string import punctuation\n",
    "from os import listdir\n",
    "from numpy import array\n",
    "from numpy import asarray\n",
    "from numpy import zeros\n",
    "from keras.preprocessing.text import Tokenizer\n",
    "from keras.preprocessing.sequence import pad_sequences\n",
    "from keras.models import Sequential\n",
    "from keras.layers import Dense\n",
    "from keras.layers import Flatten\n",
    "from keras.layers import Embedding\n",
    "from keras.layers.convolutional import Conv1D\n",
    "from keras.layers.convolutional import MaxPooling1D\n",
    "\n",
    "# load doc into memory\n",
    "def load_doc(filename):\n",
    "    # open the file as read only\n",
    "    file = open(filename, 'r')\n",
    "    # read all text\n",
    "    text = file.read()\n",
    "    # close the file\n",
    "    file.close()\n",
    "    return text\n",
    "\n",
    "# turn a doc into clean tokens\n",
    "def clean_doc(doc, vocab):\n",
    "    # split into tokens by white space\n",
    "    tokens = doc.split()\n",
    "    # remove punctuation from each token\n",
    "    table = str.maketrans('', '', punctuation)\n",
    "    tokens = [w.translate(table) for w in tokens]\n",
    "    # filter out tokens not in vocab\n",
    "    tokens = [w for w in tokens if w in vocab]\n",
    "    tokens = ' '.join(tokens)\n",
    "    return tokens\n",
    "\n",
    "# load all docs in a directory\n",
    "def process_docs(directory, vocab, is_trian):\n",
    "    documents = list()\n",
    "    # walk through all files in the folder\n",
    "    for filename in listdir(directory):\n",
    "        # skip any reviews in the test set\n",
    "        if is_trian and filename.startswith('cv9'):\n",
    "            continue\n",
    "        if not is_trian and not filename.startswith('cv9'):\n",
    "            continue\n",
    "        # create the full path of the file to open\n",
    "        path = directory + '/' + filename\n",
    "        # load the doc\n",
    "        doc = load_doc(path)\n",
    "        # clean doc\n",
    "        tokens = clean_doc(doc, vocab)\n",
    "        # add to list\n",
    "        documents.append(tokens)\n",
    "    return documents\n",
    "\n",
    "# load embedding as a dict\n",
    "def load_embedding(filename):\n",
    "    # load embedding into memory, skip first line\n",
    "    file = open(filename,'r')\n",
    "    lines = file.readlines()[1:]\n",
    "    file.close()\n",
    "    # create a map of words to vectors\n",
    "    embedding = dict()\n",
    "    for line in lines:\n",
    "        parts = line.split()\n",
    "        # key is string word, value is numpy array for vector\n",
    "        embedding[parts[0]] = asarray(parts[1:], dtype='float32')\n",
    "    return embedding\n",
    "\n",
    "# create a weight matrix for the Embedding layer from a loaded embedding\n",
    "def get_weight_matrix(embedding, vocab):\n",
    "    # total vocabulary size plus 0 for unknown words\n",
    "    vocab_size = len(vocab) + 1\n",
    "    # define weight matrix dimensions with all 0\n",
    "    weight_matrix = zeros((vocab_size, 100))\n",
    "    # step vocab, store vectors using the Tokenizer's integer mapping\n",
    "    for word, i in vocab.items():\n",
    "        weight_matrix[i] = embedding.get(word)\n",
    "    return weight_matrix\n",
    " \n",
    "# load the vocabulary\n",
    "vocab_filename = 'vocab.txt'\n",
    "vocab = load_doc(vocab_filename)\n",
    "vocab = vocab.split()\n",
    "vocab = set(vocab)\n",
    " \n",
    "# load all training reviews\n",
    "positive_docs = process_docs('txt_sentoken/pos', vocab, True)\n",
    "negative_docs = process_docs('txt_sentoken/neg', vocab, True)\n",
    "train_docs = negative_docs + positive_docs\n",
    " \n",
    "# create the tokenizer\n",
    "tokenizer = Tokenizer()\n",
    "# fit the tokenizer on the documents\n",
    "tokenizer.fit_on_texts(train_docs)\n",
    " \n",
    "# sequence encode\n",
    "encoded_docs = tokenizer.texts_to_sequences(train_docs)\n",
    "# pad sequences\n",
    "max_length = max([len(s.split()) for s in train_docs])\n",
    "Xtrain = pad_sequences(encoded_docs, maxlen=max_length, padding='post')\n",
    "# define training labels\n",
    "ytrain = array([0 for _ in range(900)] + [1 for _ in range(900)])\n",
    " \n",
    "# load all test reviews\n",
    "positive_docs = process_docs('txt_sentoken/pos', vocab, False)\n",
    "negative_docs = process_docs('txt_sentoken/neg', vocab, False)\n",
    "test_docs = negative_docs + positive_docs\n",
    "# sequence encode\n",
    "encoded_docs = tokenizer.texts_to_sequences(test_docs)\n",
    "# pad sequences\n",
    "Xtest = pad_sequences(encoded_docs, maxlen=max_length, padding='post')\n",
    "# define test labels\n",
    "ytest = array([0 for _ in range(100)] + [1 for _ in range(100)])\n",
    " \n",
    "# define vocabulary size (largest integer value)\n",
    "vocab_size = len(tokenizer.word_index) + 1\n",
    " \n",
    "# load embedding from file\n",
    "raw_embedding = load_embedding('embedding_word2vec.txt')\n",
    "# get vectors in the right order\n",
    "embedding_vectors = get_weight_matrix(raw_embedding, tokenizer.word_index)\n",
    "# create the embedding layer\n",
    "embedding_layer = Embedding(vocab_size, 100, weights=[embedding_vectors], input_length=max_length, trainable=False)\n",
    " \n",
    "# define model\n",
    "model = Sequential()\n",
    "model.add(embedding_layer)\n",
    "model.add(Conv1D(filters=128, kernel_size=5, activation='relu'))\n",
    "model.add(MaxPooling1D(pool_size=2))\n",
    "model.add(Flatten())\n",
    "model.add(Dense(1, activation='sigmoid'))\n",
    "print(model.summary())\n",
    "# compile network\n",
    "model.compile(loss='binary_crossentropy', optimizer='adam', metrics=['accuracy'])\n",
    "# fit network\n",
    "model.fit(Xtrain, ytrain, epochs=10, verbose=2)\n",
    "# evaluate\n",
    "loss, acc = model.evaluate(Xtest, ytest, verbose=0)\n",
    "print('Test Accuracy: %f' % (acc*100))"
   ]
  },
  {
   "cell_type": "markdown",
   "metadata": {},
   "source": [
    "### The cause of the poor test performance may be because of the chosen word2vec configuration or the chosen neural network configuration.\n",
    "\n",
    "### Optional \n",
    "Use the stanford pre-trained GloVe vectors:\n",
    "http://nlp.stanford.edu/data/glove.6B.zip\n",
    "\n",
    "Your test perfromance should be around 75%\n",
    "\n",
    "\n",
    "\n",
    "Optional: https://colab.research.google.com/github/tensorflow/docs/blob/master/site/en/tutorials/structured_data/time_series.ipynb"
   ]
  },
  {
   "cell_type": "markdown",
   "metadata": {},
   "source": [
    "\n",
    "\n",
    "References:\n",
    "    - François Chollet\n",
    "    - https://www.tensorflow.org/\n",
    "    - machinelearningmastery.com"
   ]
  }
 ],
 "metadata": {
  "kernelspec": {
   "display_name": "Python 3",
   "language": "python",
   "name": "python3"
  },
  "language_info": {
   "codemirror_mode": {
    "name": "ipython",
    "version": 3
   },
   "file_extension": ".py",
   "mimetype": "text/x-python",
   "name": "python",
   "nbconvert_exporter": "python",
   "pygments_lexer": "ipython3",
   "version": "3.8.8"
  }
 },
 "nbformat": 4,
 "nbformat_minor": 1
}
